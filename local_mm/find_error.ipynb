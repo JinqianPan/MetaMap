{
 "cells": [
  {
   "cell_type": "code",
   "execution_count": null,
   "metadata": {},
   "outputs": [],
   "source": [
    "import os\n",
    "import re"
   ]
  },
  {
   "cell_type": "code",
   "execution_count": null,
   "metadata": {},
   "outputs": [],
   "source": [
    "directory = '../slurm_output'\n",
    "version_number = 2\n",
    "file_type = 'narratives'\n",
    "# file_type = 'impression'\n",
    "pattern = re.compile(rf'nav_{version_number}_5_(\\d+)\\.out')\n",
    "\n",
    "commands = []\n",
    "keywords = ['Namespace', 'begin_num', 'finish_num']\n",
    "error_message = \"### MetaMap ERROR: Calling socket_client_open for TAGGER Server on host localhost and port 1795:\"\n",
    "\n",
    "for filename in os.listdir(directory):\n",
    "    if pattern.match(filename):\n",
    "        file_path = os.path.join(directory, filename)\n",
    "        with open(file_path, 'r', encoding='utf-8') as file:\n",
    "            lines = file.readlines()\n",
    "\n",
    "            extracted_lines = [line.strip() for line in lines if any(keyword in line for keyword in keywords)]\n",
    "            if error_message in ''.join(lines):\n",
    "                if len(lines) >= 28:\n",
    "                    # print(extracted_lines)\n",
    "                    machine_num = extracted_lines[0].strip().split(',')[1].split('=')[1]\n",
    "                    begin_num = extracted_lines[1].strip().split(':')[1].strip()\n",
    "                    finish_num = extracted_lines[2].strip().split(':')[1].strip()\n",
    "                    \n",
    "                    command = f\"\\\"python main_code.py --begin_num {begin_num} --finish_num {finish_num} --num_machine {machine_num} --data_name order_{file_type}_{version_number}.tsv\\\"\"\n",
    "                    commands.append(command)\n",
    "\n",
    "print(len(commands), '\\n')\n",
    "for command in commands:\n",
    "    print(command)"
   ]
  },
  {
   "cell_type": "code",
   "execution_count": null,
   "metadata": {},
   "outputs": [],
   "source": [
    "version_number = 2\n",
    "file_type = 'narratives'\n",
    "# file_type = 'impression'\n",
    "directory = f'/output/finish_data/{file_type}_{version_number}/'\n",
    "print(directory)\n",
    "\n",
    "pattern = re.compile(rf'label_data_{file_type}_{version_number}_(\\d+)\\.csv')\n",
    "\n",
    "empty_file_count = 0\n",
    "machine_nums = []\n",
    "\n",
    "for filename in os.listdir(directory):\n",
    "    if pattern.match(filename):\n",
    "        file_number = int(pattern.match(filename).group(1))\n",
    "        if 1 <= file_number <= 100:\n",
    "            file_path = os.path.join(directory, filename)\n",
    "            with open(file_path, 'r', encoding='utf-8') as file:\n",
    "                contents = file.readlines()\n",
    "                if all(line.strip() == '' for line in contents):\n",
    "                    empty_file_count += 1\n",
    "                    machine_nums.append(file_number)\n",
    "\n",
    "print(f\"Total empty files (only containing newline characters): {empty_file_count}\")\n",
    "if empty_file_count > 0:\n",
    "    print(\"Machine numbers of empty files:\", machine_nums)"
   ]
  },
  {
   "cell_type": "code",
   "execution_count": null,
   "metadata": {},
   "outputs": [],
   "source": []
  }
 ],
 "metadata": {
  "kernelspec": {
   "display_name": "Python 3",
   "language": "python",
   "name": "python3"
  },
  "language_info": {
   "codemirror_mode": {
    "name": "ipython",
    "version": 3
   },
   "file_extension": ".py",
   "mimetype": "text/x-python",
   "name": "python",
   "nbconvert_exporter": "python",
   "pygments_lexer": "ipython3",
   "version": "3.9.19"
  }
 },
 "nbformat": 4,
 "nbformat_minor": 2
}
